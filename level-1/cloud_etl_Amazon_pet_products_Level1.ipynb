{
 "cells": [
  {
   "cell_type": "markdown",
   "metadata": {
    "id": "X6AXykTex_Gj"
   },
   "source": [
    "# Cloud ETL - Amazon Pet Products Customer Reviews Dataset"
   ]
  },
  {
   "cell_type": "code",
   "execution_count": 1,
   "metadata": {
    "colab": {
     "base_uri": "https://localhost:8080/"
    },
    "id": "MijGLJHMcZus",
    "outputId": "405ee27a-7b6b-4f26-8c6b-c41afa27e373"
   },
   "outputs": [
    {
     "name": "stdout",
     "output_type": "stream",
     "text": [
      "\r",
      "0% [Working]\r",
      "            \r",
      "Get:1 https://cloud.r-project.org/bin/linux/ubuntu bionic-cran40/ InRelease [3,626 B]\n",
      "\r",
      "0% [Connecting to archive.ubuntu.com (185.125.190.36)] [Connecting to security.\r",
      "0% [Connecting to archive.ubuntu.com (185.125.190.36)] [Connecting to security.\r",
      "0% [1 InRelease gpgv 3,626 B] [Connecting to archive.ubuntu.com (185.125.190.36\r",
      "                                                                               \r",
      "Get:2 http://security.ubuntu.com/ubuntu bionic-security InRelease [88.7 kB]\n",
      "\r",
      "0% [1 InRelease gpgv 3,626 B] [Waiting for headers] [2 InRelease 14.2 kB/88.7 k\r",
      "                                                                               \r",
      "Hit:3 http://archive.ubuntu.com/ubuntu bionic InRelease\n",
      "\r",
      "0% [1 InRelease gpgv 3,626 B] [Waiting for headers] [2 InRelease 14.2 kB/88.7 k\r",
      "                                                                               \r",
      "Get:4 http://ppa.launchpad.net/c2d4u.team/c2d4u4.0+/ubuntu bionic InRelease [15.9 kB]\n",
      "Get:5 http://archive.ubuntu.com/ubuntu bionic-updates InRelease [88.7 kB]\n",
      "Get:6 https://cloud.r-project.org/bin/linux/ubuntu bionic-cran40/ Packages [92.1 kB]\n",
      "Hit:7 http://ppa.launchpad.net/cran/libgit2/ubuntu bionic InRelease\n",
      "Ign:8 https://developer.download.nvidia.com/compute/machine-learning/repos/ubuntu1804/x86_64  InRelease\n",
      "Hit:9 https://developer.download.nvidia.com/compute/cuda/repos/ubuntu1804/x86_64  InRelease\n",
      "Hit:10 https://developer.download.nvidia.com/compute/machine-learning/repos/ubuntu1804/x86_64  Release\n",
      "Get:11 http://archive.ubuntu.com/ubuntu bionic-backports InRelease [74.6 kB]\n",
      "Hit:12 http://ppa.launchpad.net/deadsnakes/ppa/ubuntu bionic InRelease\n",
      "Hit:13 http://ppa.launchpad.net/graphics-drivers/ppa/ubuntu bionic InRelease\n",
      "Get:14 http://ppa.launchpad.net/c2d4u.team/c2d4u4.0+/ubuntu bionic/main Sources [2,108 kB]\n",
      "Get:15 http://security.ubuntu.com/ubuntu bionic-security/main amd64 Packages [2,965 kB]\n",
      "Get:16 http://archive.ubuntu.com/ubuntu bionic-updates/universe amd64 Packages [2,318 kB]\n",
      "Get:17 http://security.ubuntu.com/ubuntu bionic-security/universe amd64 Packages [1,540 kB]\n",
      "Get:18 http://ppa.launchpad.net/c2d4u.team/c2d4u4.0+/ubuntu bionic/main amd64 Packages [1,080 kB]\n",
      "Get:19 http://archive.ubuntu.com/ubuntu bionic-updates/main amd64 Packages [3,397 kB]\n",
      "Fetched 13.8 MB in 5s (2,915 kB/s)\n",
      "Reading package lists... Done\n"
     ]
    }
   ],
   "source": [
    "import os\n",
    "# Find the latest version of spark 3.2  from http://www.apache.org/dist/spark/ and enter as the spark version\n",
    "# For example:\n",
    "# spark_version = 'spark-3.2.2'\n",
    "spark_version = 'spark-3.3.0'\n",
    "os.environ['SPARK_VERSION']=spark_version\n",
    "\n",
    "# Install Spark and Java\n",
    "!apt-get update\n",
    "!apt-get install --only-upgrade openjdk-11-jdk-headless -qq > /dev/null\n",
    "!wget -q -c http://www.apache.org/dist/spark/$SPARK_VERSION/$SPARK_VERSION-bin-hadoop3.tgz\n",
    "!tar xf $SPARK_VERSION-bin-hadoop3.tgz\n",
    "!pip install -q findspark\n",
    "\n",
    "# Set Environment Variables\n",
    "import os\n",
    "os.environ[\"JAVA_HOME\"] = \"/usr/lib/jvm/java-11-openjdk-amd64\"\n",
    "os.environ[\"SPARK_HOME\"] = f\"/content/{spark_version}-bin-hadoop3\"\n",
    "\n",
    "# Start a SparkSession\n",
    "import findspark\n",
    "findspark.init()"
   ]
  },
  {
   "cell_type": "code",
   "execution_count": 2,
   "metadata": {
    "colab": {
     "base_uri": "https://localhost:8080/"
    },
    "id": "js46PXxzcoDt",
    "outputId": "e0a484fa-ad67-4814-c2ff-9e98547a9650"
   },
   "outputs": [
    {
     "name": "stdout",
     "output_type": "stream",
     "text": [
      "--2022-09-19 23:09:56--  https://jdbc.postgresql.org/download/postgresql-42.2.9.jar\n",
      "Resolving jdbc.postgresql.org (jdbc.postgresql.org)... 72.32.157.228, 2001:4800:3e1:1::228\n",
      "Connecting to jdbc.postgresql.org (jdbc.postgresql.org)|72.32.157.228|:443... connected.\n",
      "HTTP request sent, awaiting response... 200 OK\n",
      "Length: 914037 (893K) [application/java-archive]\n",
      "Saving to: ‘postgresql-42.2.9.jar’\n",
      "\n",
      "postgresql-42.2.9.j 100%[===================>] 892.61K  5.00MB/s    in 0.2s    \n",
      "\n",
      "2022-09-19 23:09:56 (5.00 MB/s) - ‘postgresql-42.2.9.jar’ saved [914037/914037]\n",
      "\n"
     ]
    }
   ],
   "source": [
    "!wget -c https://jdbc.postgresql.org/download/postgresql-42.2.9.jar\n"
   ]
  },
  {
   "cell_type": "code",
   "execution_count": 3,
   "metadata": {
    "id": "3XnmVO3Z7mYw"
   },
   "outputs": [],
   "source": [
    "from pyspark.sql import SparkSession\n",
    "spark = SparkSession.builder.appName(\"bigdata-homework1\").config(\"spark.driver.extraClassPath\",\"/content/postgresql-42.2.9.jar\").getOrCreate()"
   ]
  },
  {
   "cell_type": "code",
   "execution_count": 4,
   "metadata": {
    "colab": {
     "base_uri": "https://localhost:8080/"
    },
    "id": "31QbzpXs74vW",
    "outputId": "9e64794c-b966-48da-b034-43374d0a01f6"
   },
   "outputs": [
    {
     "name": "stdout",
     "output_type": "stream",
     "text": [
      "+-----------+-----------+--------------+----------+--------------+--------------------+----------------+-----------+-------------+-----------+----+-----------------+--------------------+--------------------+-------------------+\n",
      "|marketplace|customer_id|     review_id|product_id|product_parent|       product_title|product_category|star_rating|helpful_votes|total_votes|vine|verified_purchase|     review_headline|         review_body|        review_date|\n",
      "+-----------+-----------+--------------+----------+--------------+--------------------+----------------+-----------+-------------+-----------+----+-----------------+--------------------+--------------------+-------------------+\n",
      "|         US|   28794885| REAKC26P07MDN|B00Q0K9604|     510387886|(8-Pack) EZwhelp ...|    Pet Products|          5|            0|          0|   N|                Y|A great purchase ...|Best belly bands ...|2015-08-31 00:00:00|\n",
      "|         US|   11488901|R3NU7OMZ4HQIEG|B00MBW5O9W|     912374672|Warren Eckstein's...|    Pet Products|          2|            0|          1|   N|                Y|My dogs love Hugs...|My dogs love Hugs...|2015-08-31 00:00:00|\n",
      "|         US|   43214993|R14QJW3XF8QO1P|B0084OHUIO|     902215727|Tyson's True Chew...|    Pet Products|          5|            0|          0|   N|                Y|I have been purch...|I have been purch...|2015-08-31 00:00:00|\n",
      "|         US|   12835065|R2HB7AX0394ZGY|B001GS71K2|     568880110|Soft Side Pet Cra...|    Pet Products|          5|            0|          0|   N|                Y|it is easy to ope...|It is extremely w...|2015-08-31 00:00:00|\n",
      "|         US|   26334022| RGKMPDQGSAHR3|B004ABH1LG|     692846826|EliteField 3-Door...|    Pet Products|          5|            0|          0|   N|                Y|           Dog crate|Worked really wel...|2015-08-31 00:00:00|\n",
      "|         US|   22283621|R1DJCVPQGCV66E|B00AX0LFM4|     590674141|Carlson 68-Inch W...|    Pet Products|          5|            0|          0|   N|                Y|          Five Stars|I love my gates! ...|2015-08-31 00:00:00|\n",
      "|         US|   14469895|R3V52EAWLPBFQG|B00DQFZGZ0|     688538603|Dog Seat Cover Wi...|    Pet Products|          3|            0|          0|   N|                Y|Seat belt tugs on...|Didn't quite work...|2015-08-31 00:00:00|\n",
      "|         US|   50896354|R3DKO8J1J28QBI|B00DIRF9US|     742358789|The Bird Catcher ...|    Pet Products|          2|            0|          0|   N|                Y|Great Pole, but S...|I had the origina...|2015-08-31 00:00:00|\n",
      "|         US|   18440567| R764DBXGRNECG|B00JRCBFUG|     869798483|Cat Bed - Purrfec...|    Pet Products|          5|            1|          1|   N|                N|     My cat loves it|The pad is very s...|2015-08-31 00:00:00|\n",
      "|         US|   50502362| RW1853GAT0Z9F|B000L3XYZ4|     501118658|PetSafe Drinkwell...|    Pet Products|          5|            0|          0|   N|                Y|          Five Stars|My cat drinks mor...|2015-08-31 00:00:00|\n",
      "|         US|   33930128|R33GITXNUF1AD4|B00BOEXWFG|     454737777|Contech ZenDog Ca...|    Pet Products|          2|            0|          0|   N|                Y|Also had to pull ...|Much smaller than...|2015-08-31 00:00:00|\n",
      "|         US|   43534290|R1H7AVM81TAYRV|B001HBBQKY|     420905252|Wellness Crunchy ...|    Pet Products|          1|            2|          2|   N|                Y|DO NOT PURCHASE -...|I used to love th...|2015-08-31 00:00:00|\n",
      "|         US|   45555864|R2ZOYAQZNNZZWV|B007O1FHB0|     302588963|Rx Vitamins Essen...|    Pet Products|          5|            0|          0|   N|                Y|          Five Stars|Recommended by my...|2015-08-31 00:00:00|\n",
      "|         US|   11147406|R2FN1H3CGW6J8H|B001P3NU30|     525778264|Virbac C.E.T. Enz...|    Pet Products|          1|            0|          0|   N|                Y|Received wrong pr...|Yes I  ordered fo...|2015-08-31 00:00:00|\n",
      "|         US|    6495678| RJB41Q575XNG4|B00ZP6HS6S|     414117299|Kitty Shack - 2 i...|    Pet Products|          5|            0|          3|   N|                Y|          Five Stars|      It falls apart|2015-08-31 00:00:00|\n",
      "|         US|    2019416|R28W8BM1587CPF|B00IP05CUA|     833937853|Wellness Kittles ...|    Pet Products|          5|            0|          0|   N|                Y|kitty is ravenous...|My cat really lov...|2015-08-31 00:00:00|\n",
      "|         US|   40459386|R1II0M01NIG293|B001U8Y598|      85343577|OmniPet Anti-Ant ...|    Pet Products|          2|            0|          0|   N|                N|Maybe other speci...|This bowl is not ...|2015-08-31 00:00:00|\n",
      "|         US|   23126800| RMB8N0DBRH34O|B011AY4JWO|     499241195|K9KONNECTION [New...|    Pet Products|          5|            1|          1|   N|                Y|This works, dog n...|I have a small do...|2015-08-31 00:00:00|\n",
      "|         US|   30238476|R24WB6A6WVIPU6|B00DDSHE5A|     409532388|SUNSEED COMPANY 3...|    Pet Products|          5|            0|          0|   N|                Y|    Yummy for Bunny!|Bunny loves it! E...|2015-08-31 00:00:00|\n",
      "|         US|   35113999| ROCJSH0P9YSRW|B00PJW5OR8|     259271919|CXB1983(TM)Cute P...|    Pet Products|          5|            0|          0|   N|                Y|excellent price, ...|Petfect,,quality ...|2015-08-31 00:00:00|\n",
      "+-----------+-----------+--------------+----------+--------------+--------------------+----------------+-----------+-------------+-----------+----+-----------------+--------------------+--------------------+-------------------+\n",
      "only showing top 20 rows\n",
      "\n"
     ]
    }
   ],
   "source": [
    "# Read in data from S3 Buckets\n",
    "from pyspark import SparkFiles\n",
    "url=\"https://s3.amazonaws.com/amazon-reviews-pds/tsv/amazon_reviews_us_Pet_Products_v1_00.tsv.gz\"\n",
    "spark.sparkContext.addFile(url)\n",
    "pet_products_df = spark.read.csv(SparkFiles.get(\"amazon_reviews_us_Pet_Products_v1_00.tsv.gz\"), sep=\"\\t\", header=True, inferSchema=True)\n",
    "\n",
    "# Show DataFrame\n",
    "pet_products_df.show()"
   ]
  },
  {
   "cell_type": "markdown",
   "metadata": {
    "id": "vLjf9xZgtHZm"
   },
   "source": [
    "# Count the number or records (rows) in the dataset"
   ]
  },
  {
   "cell_type": "code",
   "execution_count": 5,
   "metadata": {
    "colab": {
     "base_uri": "https://localhost:8080/"
    },
    "id": "nP7P6FRBM0Xi",
    "outputId": "a7915761-66f0-40c7-f6ee-dbc414d4fc94"
   },
   "outputs": [
    {
     "name": "stdout",
     "output_type": "stream",
     "text": [
      "2643619\n",
      "2643241\n",
      "2643241\n"
     ]
    }
   ],
   "source": [
    "# Count the number of records (rows) in the dataset\n",
    "print(pet_products_df.count())\n",
    "pet_products_df = pet_products_df.dropna()\n",
    "print(pet_products_df.count())\n",
    "pet_products_df = pet_products_df.dropDuplicates()\n",
    "print(pet_products_df.count())\n",
    "\n"
   ]
  },
  {
   "cell_type": "markdown",
   "metadata": {
    "id": "BddgCOg5tq1a"
   },
   "source": [
    "# Transform dataset to fit the tables in the schema file"
   ]
  },
  {
   "cell_type": "code",
   "execution_count": 6,
   "metadata": {
    "colab": {
     "base_uri": "https://localhost:8080/"
    },
    "id": "I2MapnuiRZev",
    "outputId": "66fe04b8-8094-4dbe-9ed3-9b8758d7d84b"
   },
   "outputs": [
    {
     "name": "stdout",
     "output_type": "stream",
     "text": [
      "root\n",
      " |-- marketplace: string (nullable = true)\n",
      " |-- customer_id: integer (nullable = true)\n",
      " |-- review_id: string (nullable = true)\n",
      " |-- product_id: string (nullable = true)\n",
      " |-- product_parent: integer (nullable = true)\n",
      " |-- product_title: string (nullable = true)\n",
      " |-- product_category: string (nullable = true)\n",
      " |-- star_rating: integer (nullable = true)\n",
      " |-- helpful_votes: integer (nullable = true)\n",
      " |-- total_votes: integer (nullable = true)\n",
      " |-- vine: string (nullable = true)\n",
      " |-- verified_purchase: string (nullable = true)\n",
      " |-- review_headline: string (nullable = true)\n",
      " |-- review_body: string (nullable = true)\n",
      " |-- review_date: timestamp (nullable = true)\n",
      "\n"
     ]
    }
   ],
   "source": [
    "pet_products_df.printSchema()"
   ]
  },
  {
   "cell_type": "markdown",
   "metadata": {
    "id": "ihAF0VCuue4z"
   },
   "source": [
    "### Review_id DataFrame"
   ]
  },
  {
   "cell_type": "code",
   "execution_count": 7,
   "metadata": {
    "colab": {
     "base_uri": "https://localhost:8080/"
    },
    "id": "BFx0Yczt74yT",
    "outputId": "fd6f7131-d280-46c4-dccf-f242c602916c"
   },
   "outputs": [
    {
     "name": "stdout",
     "output_type": "stream",
     "text": [
      "+--------------+-----------+----------+--------------+-----------+\n",
      "|     review_id|customer_id|product_id|product_parent|review_date|\n",
      "+--------------+-----------+----------+--------------+-----------+\n",
      "|R1015HJHGZUJVG|   26879429|B00076HSUC|     421502374| 2013-08-11|\n",
      "|R1023YMO9XR93S|   49345442|B00171IVHA|      25146499| 2014-12-02|\n",
      "|R10267J8PBWEVQ|   48576217|B0024E0QHC|     857059897| 2014-06-25|\n",
      "|R103326H6Z3CTG|   34624253|B000UZNLGA|     144491764| 2011-11-12|\n",
      "| R1035J76P280Y|   48425022|B003IRJTCC|     996646406| 2010-12-22|\n",
      "| R103IP0FCBH8I|   14356933|B0002AQPKW|     152333311| 2011-12-12|\n",
      "|R103WDQ4IDVIUV|   14302088|B00E8LYJS6|     394306248| 2014-12-15|\n",
      "|R103WQ2GZQLH6T|   13853268|B006MUQO0M|      84171195| 2015-06-26|\n",
      "|R104K30IR1GWUD|   27083213|B008V68GKG|     915709880| 2013-07-18|\n",
      "|R104LLIZQ8O3DW|   18411324|B00ETS9LZ4|     259591253| 2014-06-05|\n",
      "|R104OCMU5PF85T|    2654230|B008CO4H8C|     648340511| 2015-03-03|\n",
      "|R104QASUJNTTNP|   21635417|B0056J2PWG|      26863086| 2014-04-11|\n",
      "|R1058KF5BARAYI|   23364778|B004TA9VM0|     104404634| 2014-07-25|\n",
      "|R105G5FW41EYXT|   24725120|B004X3VRLG|      13345555| 2011-11-14|\n",
      "|R105G8862VGKV0|   13073613|B005G030TC|     263541539| 2014-09-30|\n",
      "|R1064AZGE512TF|    3213080|B00QT2L7OG|     817582382| 2015-02-04|\n",
      "|R106NMEE713B5W|   25243716|B0006JM0K8|     736629727| 2014-03-07|\n",
      "|R106PSJK42J15R|   20672545|B001B4Z5U4|      57261556| 2011-11-04|\n",
      "|R106S6Q9EOXI5A|   47793408|B001K5LGPW|     645464396| 2014-10-10|\n",
      "|R1080VJ3FU6LKO|     555555|B00FFECXN8|     149013886| 2015-02-21|\n",
      "+--------------+-----------+----------+--------------+-----------+\n",
      "only showing top 20 rows\n",
      "\n"
     ]
    }
   ],
   "source": [
    "# create the review_id dataframe for the \n",
    "from pyspark.sql.functions import to_date\n",
    "# Review DataFrame\n",
    "review_id_df = pet_products_df.select([\"review_id\", \"customer_id\", \"product_id\", \"product_parent\", to_date(\"review_date\", 'yyyy-MM-dd').alias(\"review_date\")])\n",
    "review_id_df.show()\n"
   ]
  },
  {
   "cell_type": "markdown",
   "metadata": {
    "id": "tY4NsZgyu80q"
   },
   "source": [
    "### Products DataFrame"
   ]
  },
  {
   "cell_type": "code",
   "execution_count": 8,
   "metadata": {
    "colab": {
     "base_uri": "https://localhost:8080/"
    },
    "id": "1VZzI7plKHVJ",
    "outputId": "e282d1ea-ba5e-4098-f41b-5f867a6abf4d"
   },
   "outputs": [
    {
     "name": "stdout",
     "output_type": "stream",
     "text": [
      "+----------+--------------------+\n",
      "|product_id|       product_title|\n",
      "+----------+--------------------+\n",
      "|B00134HSYS|Special Edition P...|\n",
      "|B00BS6NPBG|High Tech Pet 6-P...|\n",
      "|B000F930FS|PetSafe ScoopFree...|\n",
      "|B000FJ9QTW|Insight ActiviToy...|\n",
      "|B000ALY0OQ|SmartCat Bootsie'...|\n",
      "|B00Q8ETIZ0|Dogloveit Rubber ...|\n",
      "|B002VU2BA4|Kragonfly Interch...|\n",
      "|B00QA3K3QM|Attmu Retractable...|\n",
      "|B005DGHUC2|Zoo Med Laborator...|\n",
      "|B000XY7C7C|All Four Paws, Th...|\n",
      "|B004UUE26O|Animal Planet PET...|\n",
      "|B008APML2C|Chuckit Medium Ul...|\n",
      "|B00ZJN7T8E|1 Half Portion Ja...|\n",
      "|B00NRZC8LY|Hide-A-Toy Hallow...|\n",
      "|B001P3NU4E|Virbac C.E.T. Enz...|\n",
      "|B003TEQ2U6|Jolly Pets Jolly ...|\n",
      "|B00DJSNF0M|Multipet Lenny th...|\n",
      "|B00FXVFEQG|Bags on Board Dur...|\n",
      "|B005ORDWYA|Just One Bite II ...|\n",
      "|B003E77OG4|  Petmate Sky Kennel|\n",
      "+----------+--------------------+\n",
      "only showing top 20 rows\n",
      "\n"
     ]
    }
   ],
   "source": [
    "# Products DataFrame\n",
    "products_df = pet_products_df.select([\"product_id\", \"product_title\"])\n",
    "products_df = products_df.dropDuplicates()\n",
    "products_df.show()\n"
   ]
  },
  {
   "cell_type": "markdown",
   "metadata": {
    "id": "zopN2pJLvCCT"
   },
   "source": [
    "### Customers DataFrame"
   ]
  },
  {
   "cell_type": "code",
   "execution_count": 9,
   "metadata": {
    "colab": {
     "base_uri": "https://localhost:8080/"
    },
    "id": "2kY_XL0EZIIe",
    "outputId": "32d3f83d-d6ff-49ca-c634-bc3968a065d6"
   },
   "outputs": [
    {
     "name": "stdout",
     "output_type": "stream",
     "text": [
      "+-----------+------------------+\n",
      "|customer_id|count(customer_id)|\n",
      "+-----------+------------------+\n",
      "|   21105356|                 5|\n",
      "|   29425552|                 2|\n",
      "|   17041448|                 5|\n",
      "|   37882821|                 1|\n",
      "|   42532905|                 1|\n",
      "|   18759528|                 1|\n",
      "|   19172324|                 4|\n",
      "|   51474275|                 2|\n",
      "|   27911347|                 9|\n",
      "|   22602819|                 2|\n",
      "|    5658913|                34|\n",
      "|   14691760|                 2|\n",
      "|   13645331|                 1|\n",
      "|   14139374|                 1|\n",
      "|   14397122|                 4|\n",
      "|   10850500|                 1|\n",
      "|   47233188|                 6|\n",
      "|   24215961|                 1|\n",
      "|   16468643|                 1|\n",
      "|   18630443|                 8|\n",
      "+-----------+------------------+\n",
      "only showing top 20 rows\n",
      "\n"
     ]
    }
   ],
   "source": [
    "from pyspark.sql.functions import desc\n",
    "# Customers DataFrame\n",
    "customers_df = pet_products_df.groupby(\"customer_id\").agg({\"customer_id\":\"count\"})\n",
    "customers_df.show()\n",
    "\n"
   ]
  },
  {
   "cell_type": "code",
   "execution_count": 10,
   "metadata": {
    "colab": {
     "base_uri": "https://localhost:8080/"
    },
    "id": "6tmO3nyFe4af",
    "outputId": "987a6711-5175-4588-f536-f09f54381687"
   },
   "outputs": [
    {
     "name": "stdout",
     "output_type": "stream",
     "text": [
      "+-----------+--------------+\n",
      "|customer_id|customer_count|\n",
      "+-----------+--------------+\n",
      "|   22500722|           258|\n",
      "|   31511151|           236|\n",
      "|   16053845|           228|\n",
      "|   25659082|           210|\n",
      "|   23375624|           200|\n",
      "|   43856165|           198|\n",
      "|   51175061|           163|\n",
      "|   37446839|           160|\n",
      "|   16540594|           150|\n",
      "|   16916667|           134|\n",
      "|   52263513|           134|\n",
      "|   33315159|           134|\n",
      "|   18164293|           132|\n",
      "|   18539854|           132|\n",
      "|   29676361|           130|\n",
      "|   39154578|           121|\n",
      "|   16052325|           120|\n",
      "|   38352624|           119|\n",
      "|   50991253|           115|\n",
      "|   42329785|           115|\n",
      "+-----------+--------------+\n",
      "only showing top 20 rows\n",
      "\n"
     ]
    }
   ],
   "source": [
    "customers_df = customers_df.orderBy(desc(\"count(customer_id)\"))\n",
    "customers_df = customers_df.withColumnRenamed(\"count(customer_id)\", \"customer_count\")\n",
    "customers_df.show()"
   ]
  },
  {
   "cell_type": "markdown",
   "metadata": {
    "id": "21w5_y5vvLSa"
   },
   "source": [
    "### Vine DataFrame"
   ]
  },
  {
   "cell_type": "code",
   "execution_count": 11,
   "metadata": {
    "colab": {
     "base_uri": "https://localhost:8080/"
    },
    "id": "srlb3UsgKIH0",
    "outputId": "8ad76605-3f7b-4abc-be6c-b8a542658cca"
   },
   "outputs": [
    {
     "name": "stdout",
     "output_type": "stream",
     "text": [
      "+--------------+-----------+-------------+-----------+----+\n",
      "|     review_id|star_rating|helpful_votes|total_votes|vine|\n",
      "+--------------+-----------+-------------+-----------+----+\n",
      "|R1015HJHGZUJVG|          5|            1|          1|   N|\n",
      "|R1023YMO9XR93S|          2|            0|          0|   N|\n",
      "|R10267J8PBWEVQ|          5|            0|          0|   N|\n",
      "|R103326H6Z3CTG|          5|            1|          1|   N|\n",
      "| R1035J76P280Y|          5|            6|          7|   N|\n",
      "| R103IP0FCBH8I|          5|            1|          1|   N|\n",
      "|R103WDQ4IDVIUV|          5|            0|          0|   N|\n",
      "|R103WQ2GZQLH6T|          5|            0|          0|   N|\n",
      "|R104K30IR1GWUD|          5|            0|          0|   N|\n",
      "|R104LLIZQ8O3DW|          5|            0|          0|   N|\n",
      "|R104OCMU5PF85T|          2|           25|         25|   N|\n",
      "|R104QASUJNTTNP|          5|            0|          0|   N|\n",
      "|R1058KF5BARAYI|          5|            0|          0|   N|\n",
      "|R105G5FW41EYXT|          3|            0|          0|   Y|\n",
      "|R105G8862VGKV0|          5|            0|          0|   N|\n",
      "|R1064AZGE512TF|          5|            2|          2|   N|\n",
      "|R106NMEE713B5W|          5|            1|          1|   N|\n",
      "|R106PSJK42J15R|          5|            0|          0|   N|\n",
      "|R106S6Q9EOXI5A|          5|            0|          0|   N|\n",
      "|R1080VJ3FU6LKO|          5|            3|          3|   N|\n",
      "+--------------+-----------+-------------+-----------+----+\n",
      "only showing top 20 rows\n",
      "\n"
     ]
    }
   ],
   "source": [
    "# Vine DataFrame\n",
    "vine_df = pet_products_df.select([\"review_id\", \"star_rating\", \"helpful_votes\", \"total_votes\", \"vine\"])\n",
    "vine_df.show()"
   ]
  },
  {
   "cell_type": "markdown",
   "metadata": {
    "id": "seNRohawt5PM"
   },
   "source": [
    "# Configuration for RDS instance"
   ]
  },
  {
   "cell_type": "code",
   "execution_count": 12,
   "metadata": {
    "id": "i-8GOZYd75Bk"
   },
   "outputs": [],
   "source": [
    "mode = \"append\"\n",
    "jdbc_url=\"jdbc:postgresql://<endpoint>:5432/pet_products_db\"\n",
    "config = {\"user\":\"postgres\", \"password\": \"<password>\", \"driver\":\"org.postgresql.Driver\"}"
   ]
  },
  {
   "cell_type": "markdown",
   "metadata": {
    "id": "PKYNs4Ptw6Dy"
   },
   "source": [
    "# Write DataFrames to tables to AWS RDS"
   ]
  },
  {
   "cell_type": "code",
   "execution_count": 13,
   "metadata": {
    "id": "mwornxk57myd"
   },
   "outputs": [],
   "source": [
    "# Write review_id_df to table in RDS\n",
    "review_id_df.write.jdbc(url=jdbc_url, table='review_id_table', mode=mode, properties=config)"
   ]
  },
  {
   "cell_type": "code",
   "execution_count": 14,
   "metadata": {
    "id": "Iv59E-V1JZNr"
   },
   "outputs": [],
   "source": [
    "# Write products_df to table in RDS\n",
    "products_df.write.jdbc(url=jdbc_url, table='products', mode=mode, properties=config)"
   ]
  },
  {
   "cell_type": "code",
   "execution_count": 15,
   "metadata": {
    "id": "ma05KhyRJZgm"
   },
   "outputs": [],
   "source": [
    "# Write customers_df to table in RDS\n",
    "customers_df.write.jdbc(url=jdbc_url, table='customers', mode=mode, properties=config)"
   ]
  },
  {
   "cell_type": "code",
   "execution_count": 16,
   "metadata": {
    "id": "8dJSYxu5JZtA"
   },
   "outputs": [],
   "source": [
    "# Write vine_df to table in RDS\n",
    "vine_df.write.jdbc(url=jdbc_url, table='vine_table', mode=mode, properties=config)"
   ]
  },
  {
   "cell_type": "code",
   "execution_count": null,
   "metadata": {
    "id": "Ws4ywLEp1gyL"
   },
   "outputs": [],
   "source": []
  }
 ],
 "metadata": {
  "colab": {
   "collapsed_sections": [],
   "provenance": []
  },
  "kernelspec": {
   "display_name": "Python 3",
   "language": "python",
   "name": "python3"
  },
  "language_info": {
   "codemirror_mode": {
    "name": "ipython",
    "version": 3
   },
   "file_extension": ".py",
   "mimetype": "text/x-python",
   "name": "python",
   "nbconvert_exporter": "python",
   "pygments_lexer": "ipython3",
   "version": "3.6.10"
  }
 },
 "nbformat": 4,
 "nbformat_minor": 1
}
