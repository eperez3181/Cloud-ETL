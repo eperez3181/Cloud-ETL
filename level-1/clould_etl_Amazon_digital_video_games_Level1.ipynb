{
 "cells": [
  {
   "cell_type": "markdown",
   "metadata": {
    "id": "X6AXykTex_Gj"
   },
   "source": [
    "# Cloud ETL - Amazon Digital Video Games Customer Reviews Dataset"
   ]
  },
  {
   "cell_type": "code",
   "execution_count": 18,
   "metadata": {
    "colab": {
     "base_uri": "https://localhost:8080/"
    },
    "id": "MijGLJHMcZus",
    "outputId": "61875fe2-5b82-4035-abf5-533983d8b71e"
   },
   "outputs": [
    {
     "name": "stdout",
     "output_type": "stream",
     "text": [
      "\r",
      "0% [Working]\r",
      "            \r",
      "Hit:1 http://ppa.launchpad.net/c2d4u.team/c2d4u4.0+/ubuntu bionic InRelease\n",
      "\r",
      "0% [Waiting for headers] [Connecting to security.ubuntu.com (91.189.91.39)] [Co\r",
      "                                                                               \r",
      "Hit:2 http://archive.ubuntu.com/ubuntu bionic InRelease\n",
      "\r",
      "                                                                               \r",
      "Get:3 http://archive.ubuntu.com/ubuntu bionic-updates InRelease [88.7 kB]\n",
      "\r",
      "                                                                               \r",
      "Hit:4 http://ppa.launchpad.net/cran/libgit2/ubuntu bionic InRelease\n",
      "\r",
      "0% [3 InRelease 88.7 kB/88.7 kB 100%] [Connecting to security.ubuntu.com (91.18\r",
      "0% [Waiting for headers] [Connecting to security.ubuntu.com (91.189.91.39)] [Co\r",
      "                                                                               \r",
      "Hit:5 http://ppa.launchpad.net/deadsnakes/ppa/ubuntu bionic InRelease\n",
      "\r",
      "0% [1 InRelease gpgv 15.9 kB] [Waiting for headers] [Connecting to security.ubu\r",
      "                                                                               \r",
      "Hit:6 https://cloud.r-project.org/bin/linux/ubuntu bionic-cran40/ InRelease\n",
      "Get:7 http://archive.ubuntu.com/ubuntu bionic-backports InRelease [74.6 kB]\n",
      "Hit:8 http://ppa.launchpad.net/graphics-drivers/ppa/ubuntu bionic InRelease\n",
      "Get:9 http://security.ubuntu.com/ubuntu bionic-security InRelease [88.7 kB]\n",
      "Ign:10 https://developer.download.nvidia.com/compute/machine-learning/repos/ubuntu1804/x86_64  InRelease\n",
      "Hit:11 https://developer.download.nvidia.com/compute/cuda/repos/ubuntu1804/x86_64  InRelease\n",
      "Hit:12 https://developer.download.nvidia.com/compute/machine-learning/repos/ubuntu1804/x86_64  Release\n",
      "Fetched 252 kB in 3s (76.8 kB/s)\n",
      "Reading package lists... Done\n"
     ]
    }
   ],
   "source": [
    "import os\n",
    "# Find the latest version of spark 3.2  from http://www.apache.org/dist/spark/ and enter as the spark version\n",
    "# For example:\n",
    "# spark_version = 'spark-3.2.2'\n",
    "spark_version = 'spark-3.3.0'\n",
    "os.environ['SPARK_VERSION']=spark_version\n",
    "\n",
    "# Install Spark and Java\n",
    "!apt-get update\n",
    "!apt-get install --only-upgrade openjdk-11-jdk-headless -qq > /dev/null\n",
    "!wget -q -c http://www.apache.org/dist/spark/$SPARK_VERSION/$SPARK_VERSION-bin-hadoop3.tgz\n",
    "!tar xf $SPARK_VERSION-bin-hadoop3.tgz\n",
    "!pip install -q findspark\n",
    "\n",
    "# Set Environment Variables\n",
    "import os\n",
    "os.environ[\"JAVA_HOME\"] = \"/usr/lib/jvm/java-11-openjdk-amd64\"\n",
    "os.environ[\"SPARK_HOME\"] = f\"/content/{spark_version}-bin-hadoop3\"\n",
    "\n",
    "# Start a SparkSession\n",
    "import findspark\n",
    "findspark.init()"
   ]
  },
  {
   "cell_type": "code",
   "execution_count": 19,
   "metadata": {
    "colab": {
     "base_uri": "https://localhost:8080/"
    },
    "id": "js46PXxzcoDt",
    "outputId": "e9042d2a-043f-408a-f021-bafdfb45fe92"
   },
   "outputs": [
    {
     "name": "stdout",
     "output_type": "stream",
     "text": [
      "--2022-09-19 23:48:44--  https://jdbc.postgresql.org/download/postgresql-42.2.9.jar\n",
      "Resolving jdbc.postgresql.org (jdbc.postgresql.org)... 72.32.157.228, 2001:4800:3e1:1::228\n",
      "Connecting to jdbc.postgresql.org (jdbc.postgresql.org)|72.32.157.228|:443... connected.\n",
      "HTTP request sent, awaiting response... 416 Requested Range Not Satisfiable\n",
      "\n",
      "    The file is already fully retrieved; nothing to do.\n",
      "\n"
     ]
    }
   ],
   "source": [
    "!wget -c https://jdbc.postgresql.org/download/postgresql-42.2.9.jar\n"
   ]
  },
  {
   "cell_type": "code",
   "execution_count": 20,
   "metadata": {
    "id": "3XnmVO3Z7mYw"
   },
   "outputs": [],
   "source": [
    "from pyspark.sql import SparkSession\n",
    "spark = SparkSession.builder.appName(\"bigdata-homework1\").config(\"spark.driver.extraClassPath\",\"/content/postgresql-42.2.9.jar\").getOrCreate()"
   ]
  },
  {
   "cell_type": "code",
   "execution_count": 21,
   "metadata": {
    "colab": {
     "base_uri": "https://localhost:8080/"
    },
    "id": "31QbzpXs74vW",
    "outputId": "0943cb6c-dc73-415c-b0bc-a9a6e24dcdb7"
   },
   "outputs": [
    {
     "name": "stdout",
     "output_type": "stream",
     "text": [
      "+-----------+-----------+--------------+----------+--------------+--------------------+-------------------+-----------+-------------+-----------+----+-----------------+--------------------+--------------------+-------------------+\n",
      "|marketplace|customer_id|     review_id|product_id|product_parent|       product_title|   product_category|star_rating|helpful_votes|total_votes|vine|verified_purchase|     review_headline|         review_body|        review_date|\n",
      "+-----------+-----------+--------------+----------+--------------+--------------------+-------------------+-----------+-------------+-----------+----+-----------------+--------------------+--------------------+-------------------+\n",
      "|         US|   21269168| RSH1OZ87OYK92|B013PURRZW|     603406193|Madden NFL 16 - X...|Digital_Video_Games|          2|            2|          3|   N|                N|A slight improvem...|I keep buying mad...|2015-08-31 00:00:00|\n",
      "|         US|     133437|R1WFOQ3N9BO65I|B00F4CEHNK|     341969535| Xbox Live Gift Card|Digital_Video_Games|          5|            0|          0|   N|                Y|          Five Stars|             Awesome|2015-08-31 00:00:00|\n",
      "|         US|   45765011| R3YOOS71KM5M9|B00DNHLFQA|     951665344|Command & Conquer...|Digital_Video_Games|          5|            0|          0|   N|                Y|Hail to the great...|If you are preppi...|2015-08-31 00:00:00|\n",
      "|         US|     113118|R3R14UATT3OUFU|B004RMK5QG|     395682204|Playstation Plus ...|Digital_Video_Games|          5|            0|          0|   N|                Y|          Five Stars|             Perfect|2015-08-31 00:00:00|\n",
      "|         US|   22151364| RV2W9SGDNQA2C|B00G9BNLQE|     640460561|Saints Row IV - E...|Digital_Video_Games|          5|            0|          0|   N|                Y|          Five Stars|            Awesome!|2015-08-31 00:00:00|\n",
      "|         US|   22151364|R3CFKLIZ0I2KOB|B00IMIL498|     621922192|Double Dragon: Ne...|Digital_Video_Games|          5|            0|          0|   N|                Y|          Five Stars|            Awesome!|2015-08-31 00:00:00|\n",
      "|         US|   38426028|R1LRYU1V0T3O38|B00S00IJH8|     215163395|              Sims 4|Digital_Video_Games|          4|            0|          0|   N|                Y|i like the new sk...|i like the new sk...|2015-08-31 00:00:00|\n",
      "|         US|    6057518| R44QKV6FE5CJ2|B004RMK4BC|     384246568|Playstation Netwo...|Digital_Video_Games|          5|            0|          0|   N|                Y|          Five Stars|               Super|2015-08-31 00:00:00|\n",
      "|         US|   20715661|R2TX1KLPXXXNYS|B00K59HKIQ|     384246568|Playstation Netwo...|Digital_Video_Games|          5|            0|          0|   N|                Y|         Easy & Fast|Excellent, fast a...|2015-08-31 00:00:00|\n",
      "|         US|   26540306|R1JEEW4C6R89BA|B00K59HKIQ|     384246568|Playstation Netwo...|Digital_Video_Games|          5|            0|          0|   N|                Y|          Five Stars|                  Ok|2015-08-31 00:00:00|\n",
      "|         US|    8926809|R3B3UHK1FO0ERS|B004774IPU|     151985175|Sid Meier's Civil...|Digital_Video_Games|          1|            0|          0|   N|                N|I am still playin...|As has been writt...|2015-08-31 00:00:00|\n",
      "|         US|   31525534|R2GVSDHW513SS1|B002LIT9EC|     695277014|Build-a-lot 4: Po...|Digital_Video_Games|          5|            0|          0|   N|                Y|Probably the best...|Probably the best...|2015-08-31 00:00:00|\n",
      "|         US|   22151364|R1R1NT516PYT73|B008ALUBYQ|     112160022|       Borderlands 2|Digital_Video_Games|          5|            0|          0|   N|                Y|          Five Stars|            Awesome!|2015-08-31 00:00:00|\n",
      "|         US|   22977584|R3K624QDQKENN9|B010KYDNDG|     835376637|Minecraft for PC/...|Digital_Video_Games|          4|            0|          0|   N|                Y|                 FUN|COOL BUT IT LAGES...|2015-08-31 00:00:00|\n",
      "|         US|   45765011| R1FOXH7PCJX3V|B008ALUBYQ|     112160022|       Borderlands 2|Digital_Video_Games|          1|            0|          2|   N|                Y|            One Star|Lames purchase I ...|2015-08-31 00:00:00|\n",
      "|         US|    2239522| RA1246M1OMDWC|B004RMK4P8|     384246568|Playstation Netwo...|Digital_Video_Games|          5|            0|          0|   N|                Y|          Five Stars|               Great|2015-08-31 00:00:00|\n",
      "|         US|   48805811|R2I9SXWB0PAEKQ|B004RMK5QG|     395682204|Playstation Plus ...|Digital_Video_Games|          5|            0|          0|   N|                Y|          Five Stars|          Awesome!!!|2015-08-31 00:00:00|\n",
      "|         US|   18646481|R3UGL544NA0G9C|B00BI16Z22|     552981447|Brink of Consciou...|Digital_Video_Games|          4|            0|          0|   N|                Y|       worth playing|pretty good but n...|2015-08-31 00:00:00|\n",
      "|         US|   10310935|R1CBA4Y92GVAVM|B004VSTQ2A|     232803743|Xbox Live Subscri...|Digital_Video_Games|          5|            0|          0|   N|                Y|          Five Stars|What can I say......|2015-08-31 00:00:00|\n",
      "|         US|    5587610|R24NEKNR01VEHU|B00GAC1D2G|     384246568|Playstation Netwo...|Digital_Video_Games|          5|            0|          0|   N|                Y|        Just amazing|Very fast to rece...|2015-08-31 00:00:00|\n",
      "+-----------+-----------+--------------+----------+--------------+--------------------+-------------------+-----------+-------------+-----------+----+-----------------+--------------------+--------------------+-------------------+\n",
      "only showing top 20 rows\n",
      "\n"
     ]
    }
   ],
   "source": [
    "# Read in data from S3 Buckets\n",
    "from pyspark import SparkFiles\n",
    "url=\"https://s3.amazonaws.com/amazon-reviews-pds/tsv/amazon_reviews_us_Digital_Video_Games_v1_00.tsv.gz\"\n",
    "spark.sparkContext.addFile(url)\n",
    "digital_video_games_df = spark.read.csv(SparkFiles.get(\"amazon_reviews_us_Digital_Video_Games_v1_00.tsv.gz\"), sep=\"\\t\", header=True, inferSchema=True)\n",
    "\n",
    "# Show DataFrame\n",
    "digital_video_games_df.show()"
   ]
  },
  {
   "cell_type": "markdown",
   "metadata": {
    "id": "vLjf9xZgtHZm"
   },
   "source": [
    "# Count the number or records (rows) in the dataset"
   ]
  },
  {
   "cell_type": "code",
   "execution_count": 22,
   "metadata": {
    "colab": {
     "base_uri": "https://localhost:8080/"
    },
    "id": "nP7P6FRBM0Xi",
    "outputId": "baf5acca-50dd-445e-9071-f7753a80def4"
   },
   "outputs": [
    {
     "name": "stdout",
     "output_type": "stream",
     "text": [
      "145431\n",
      "145425\n",
      "145425\n"
     ]
    }
   ],
   "source": [
    "# Count the number of records (rows) in the dataset\n",
    "print(digital_video_games_df.count())\n",
    "digital_video_games_df = digital_video_games_df.dropna()\n",
    "print(digital_video_games_df.count())\n",
    "digital_video_games_df= digital_video_games_df.dropDuplicates()\n",
    "print(digital_video_games_df.count())\n",
    "\n"
   ]
  },
  {
   "cell_type": "markdown",
   "metadata": {
    "id": "BddgCOg5tq1a"
   },
   "source": [
    "# Transform dataset to fit the tables in the schema file"
   ]
  },
  {
   "cell_type": "code",
   "execution_count": 23,
   "metadata": {
    "colab": {
     "base_uri": "https://localhost:8080/"
    },
    "id": "I2MapnuiRZev",
    "outputId": "fe474c18-9a21-4b48-96f0-4abc5c8f9d03"
   },
   "outputs": [
    {
     "name": "stdout",
     "output_type": "stream",
     "text": [
      "root\n",
      " |-- marketplace: string (nullable = true)\n",
      " |-- customer_id: integer (nullable = true)\n",
      " |-- review_id: string (nullable = true)\n",
      " |-- product_id: string (nullable = true)\n",
      " |-- product_parent: integer (nullable = true)\n",
      " |-- product_title: string (nullable = true)\n",
      " |-- product_category: string (nullable = true)\n",
      " |-- star_rating: integer (nullable = true)\n",
      " |-- helpful_votes: integer (nullable = true)\n",
      " |-- total_votes: integer (nullable = true)\n",
      " |-- vine: string (nullable = true)\n",
      " |-- verified_purchase: string (nullable = true)\n",
      " |-- review_headline: string (nullable = true)\n",
      " |-- review_body: string (nullable = true)\n",
      " |-- review_date: timestamp (nullable = true)\n",
      "\n"
     ]
    }
   ],
   "source": [
    "digital_video_games_df.printSchema()"
   ]
  },
  {
   "cell_type": "markdown",
   "metadata": {
    "id": "ihAF0VCuue4z"
   },
   "source": [
    "### Review_id DataFrame"
   ]
  },
  {
   "cell_type": "code",
   "execution_count": 24,
   "metadata": {
    "colab": {
     "base_uri": "https://localhost:8080/"
    },
    "id": "BFx0Yczt74yT",
    "outputId": "bf94e542-9ad4-4ee5-a027-a768ca2cba5d"
   },
   "outputs": [
    {
     "name": "stdout",
     "output_type": "stream",
     "text": [
      "+--------------+-----------+----------+--------------+-----------+\n",
      "|     review_id|customer_id|product_id|product_parent|review_date|\n",
      "+--------------+-----------+----------+--------------+-----------+\n",
      "| RDHZ0IP0QWF3G|   39005147|B00SLM597S|     500010339| 2015-08-31|\n",
      "|R2AQD17WE4BPXV|   10726509|B009IR1SR0|     912779847| 2015-08-20|\n",
      "|R27V3DHADX5APY|    1709090|B00F4CEHNK|     341969535| 2015-08-19|\n",
      "|R2Q0PGNE0M3ES4|     167253|B00TUEOSMS|      47086315| 2015-08-18|\n",
      "|R1LB0DS6OZCIMW|   10534940|B00TUEOSMS|      47086315| 2015-08-17|\n",
      "|R3HX7QICC0NOCK|   11267480|B00GAC1D2G|     384246568| 2015-08-15|\n",
      "|R1KXTQXBE0CRQM|   22661511|B00T8NURF8|     181827382| 2015-08-15|\n",
      "|R39TG3LST9JDA8|   18404333|B002VBWIP6|     232803743| 2015-08-10|\n",
      "|R1W2UR1JVB2C13|   22353312|B010R8DUFQ|     473214709| 2015-08-09|\n",
      "|R1M0DM7FCXI1H9|     535447|B00GAC1D2G|     384246568| 2015-08-06|\n",
      "|R2IJD4JDICI4AF|   10733761|B009IR1SR0|     912779847| 2015-08-01|\n",
      "| RWVPFDHF1M46B|    2585643|B00GAC1D2G|     384246568| 2015-07-29|\n",
      "|R3VRDDUP2Y8GLL|   46457021|B00KSEP1IY|     216254917| 2015-07-27|\n",
      "| RTQ74WPYINEQ4|   46298724|B00GXHISJE|     599419294| 2015-07-24|\n",
      "|R2EDLGJ023RFG9|   15358939|B004RMK4BC|     384246568| 2015-07-20|\n",
      "|R2GHBUPC6U73WY|   46570081|B00KXAGTV6|     879556367| 2015-07-19|\n",
      "|R302SCFGGMY7CJ|    3905163|B00DTWEOZ8|     869820667| 2015-07-17|\n",
      "|R2UWO1VA2JWOVV|    2567383|B004RMK4BC|     384246568| 2015-07-15|\n",
      "| RMK5FMTGK8UWV|   26637972|B00AR05D7I|     151974959| 2015-07-06|\n",
      "|R3A14IZL4UCGIM|   39677172|B004RMK4P8|     384246568| 2015-07-06|\n",
      "+--------------+-----------+----------+--------------+-----------+\n",
      "only showing top 20 rows\n",
      "\n"
     ]
    }
   ],
   "source": [
    "# create the review_id dataframe for the \n",
    "from pyspark.sql.functions import to_date\n",
    "# Review DataFrame\n",
    "review_id_df = digital_video_games_df.select([\"review_id\", \"customer_id\", \"product_id\", \"product_parent\", to_date(\"review_date\", 'yyyy-MM-dd').alias(\"review_date\")])\n",
    "review_id_df.show()\n"
   ]
  },
  {
   "cell_type": "markdown",
   "metadata": {
    "id": "tY4NsZgyu80q"
   },
   "source": [
    "### Products DataFrame"
   ]
  },
  {
   "cell_type": "code",
   "execution_count": 25,
   "metadata": {
    "colab": {
     "base_uri": "https://localhost:8080/"
    },
    "id": "1VZzI7plKHVJ",
    "outputId": "c1189783-53c2-43c5-bc45-0557da5fff6e"
   },
   "outputs": [
    {
     "name": "stdout",
     "output_type": "stream",
     "text": [
      "+----------+--------------------+\n",
      "|product_id|       product_title|\n",
      "+----------+--------------------+\n",
      "|B001TK3VTC|Cubis Gold 2 [Dow...|\n",
      "|B002MUB0TG|Little Shop of Tr...|\n",
      "|B00DRO824C|X2 The Threat [On...|\n",
      "|B00CMDKNHI| 100% Hidden Objects|\n",
      "|B00CMSCTA2|Age of Empires II...|\n",
      "|B00GDHD3LW|1 Month Subscript...|\n",
      "|B00OM1VVJM|            NBa 2K15|\n",
      "|B005XOJ6NK|   Sonic Generations|\n",
      "|B00GGUHGGY|Call of Duty Blac...|\n",
      "|B00A9XQ890|Grand Theft Auto:...|\n",
      "|B003YMMGEE|Sniper: Ghost War...|\n",
      "|B00405RA04|Rome: Total War -...|\n",
      "|B0083KX9IO|Stronghold Kingdo...|\n",
      "|B00M0W1YZQ|Chronicles of Wit...|\n",
      "|B00895ARJC|  Syberia [Download]|\n",
      "|B0084FHQ1O|The Stronghold Co...|\n",
      "|B00KK9PR90|Freddi Fish 3: Th...|\n",
      "|B001KC01OW|Wonderlines [Down...|\n",
      "|B008TTPTOQ|Battlefield Bad C...|\n",
      "|B00DGZDGUM|Nascar The Game 2...|\n",
      "+----------+--------------------+\n",
      "only showing top 20 rows\n",
      "\n"
     ]
    }
   ],
   "source": [
    "# Products DataFrame\n",
    "products_df = digital_video_games_df.select([\"product_id\", \"product_title\"])\n",
    "products_df = products_df.dropDuplicates()\n",
    "products_df.show()\n"
   ]
  },
  {
   "cell_type": "markdown",
   "metadata": {
    "id": "zopN2pJLvCCT"
   },
   "source": [
    "### Customers DataFrame"
   ]
  },
  {
   "cell_type": "code",
   "execution_count": 26,
   "metadata": {
    "colab": {
     "base_uri": "https://localhost:8080/"
    },
    "id": "2kY_XL0EZIIe",
    "outputId": "c57bf537-e854-46f8-810e-e60d8c14d860"
   },
   "outputs": [
    {
     "name": "stdout",
     "output_type": "stream",
     "text": [
      "+-----------+------------------+\n",
      "|customer_id|count(customer_id)|\n",
      "+-----------+------------------+\n",
      "|   47505356|                 1|\n",
      "|   21198249|                10|\n",
      "|   11646226|                 4|\n",
      "|   50712554|                 1|\n",
      "|   13490955|                 2|\n",
      "|    2099668|                 1|\n",
      "|   29206489|                 1|\n",
      "|   14231016|                 1|\n",
      "|   46351928|                 7|\n",
      "|   28665190|                 1|\n",
      "|   44172434|                 1|\n",
      "|   45096613|                 1|\n",
      "|   13713446|                 8|\n",
      "|    2863501|                 1|\n",
      "|   39449017|                 3|\n",
      "|   21281723|                 5|\n",
      "|    3953141|                 2|\n",
      "|    8213600|                 2|\n",
      "|   33185883|                 1|\n",
      "|   15109931|                 1|\n",
      "+-----------+------------------+\n",
      "only showing top 20 rows\n",
      "\n"
     ]
    }
   ],
   "source": [
    "from pyspark.sql.functions import desc\n",
    "# Customers DataFrame\n",
    "customers_df = digital_video_games_df.groupby(\"customer_id\").agg({\"customer_id\":\"count\"})\n",
    "customers_df.show()\n",
    "\n"
   ]
  },
  {
   "cell_type": "code",
   "execution_count": 27,
   "metadata": {
    "colab": {
     "base_uri": "https://localhost:8080/"
    },
    "id": "6tmO3nyFe4af",
    "outputId": "66846aed-f769-449d-88e9-a9c1c60b4d07"
   },
   "outputs": [
    {
     "name": "stdout",
     "output_type": "stream",
     "text": [
      "+-----------+--------------+\n",
      "|customer_id|customer_count|\n",
      "+-----------+--------------+\n",
      "|   21925455|            95|\n",
      "|   40955995|            92|\n",
      "|   23564949|            83|\n",
      "|   52520442|            73|\n",
      "|   14279279|            72|\n",
      "|   51520185|            65|\n",
      "|   20751317|            54|\n",
      "|   25575022|            49|\n",
      "|   50529050|            49|\n",
      "|   11584162|            49|\n",
      "|   36527466|            48|\n",
      "|   39942708|            48|\n",
      "|   31012456|            46|\n",
      "|   52919259|            45|\n",
      "|   19371429|            43|\n",
      "|   46544620|            43|\n",
      "|   53080901|            42|\n",
      "|   26151231|            42|\n",
      "|   45688707|            40|\n",
      "|   14222166|            39|\n",
      "+-----------+--------------+\n",
      "only showing top 20 rows\n",
      "\n"
     ]
    }
   ],
   "source": [
    "customers_df = customers_df.orderBy(desc(\"count(customer_id)\"))\n",
    "customers_df = customers_df.withColumnRenamed(\"count(customer_id)\", \"customer_count\")\n",
    "customers_df.show()"
   ]
  },
  {
   "cell_type": "markdown",
   "metadata": {
    "id": "21w5_y5vvLSa"
   },
   "source": [
    "### Vine DataFrame"
   ]
  },
  {
   "cell_type": "code",
   "execution_count": 28,
   "metadata": {
    "colab": {
     "base_uri": "https://localhost:8080/"
    },
    "id": "srlb3UsgKIH0",
    "outputId": "51ff29d7-07c1-4298-9c5b-42745d7c9e6f"
   },
   "outputs": [
    {
     "name": "stdout",
     "output_type": "stream",
     "text": [
      "+--------------+-----------+-------------+-----------+----+\n",
      "|     review_id|star_rating|helpful_votes|total_votes|vine|\n",
      "+--------------+-----------+-------------+-----------+----+\n",
      "| RDHZ0IP0QWF3G|          1|            1|          1|   N|\n",
      "|R2AQD17WE4BPXV|          1|            1|          1|   N|\n",
      "|R27V3DHADX5APY|          1|            0|          0|   N|\n",
      "|R2Q0PGNE0M3ES4|          5|            0|          0|   N|\n",
      "|R1LB0DS6OZCIMW|          5|            0|          0|   N|\n",
      "|R3HX7QICC0NOCK|          1|            0|          0|   N|\n",
      "|R1KXTQXBE0CRQM|          5|            0|          0|   N|\n",
      "|R39TG3LST9JDA8|          5|            0|          0|   N|\n",
      "|R1W2UR1JVB2C13|          5|            1|          1|   N|\n",
      "|R1M0DM7FCXI1H9|          5|            0|          0|   N|\n",
      "|R2IJD4JDICI4AF|          1|            2|          2|   N|\n",
      "| RWVPFDHF1M46B|          5|            0|          0|   N|\n",
      "|R3VRDDUP2Y8GLL|          5|            0|          0|   N|\n",
      "| RTQ74WPYINEQ4|          1|            0|          1|   N|\n",
      "|R2EDLGJ023RFG9|          5|            0|          0|   N|\n",
      "|R2GHBUPC6U73WY|          5|            0|          0|   N|\n",
      "|R302SCFGGMY7CJ|          4|            0|          0|   N|\n",
      "|R2UWO1VA2JWOVV|          5|            0|          0|   N|\n",
      "| RMK5FMTGK8UWV|          1|            0|          1|   N|\n",
      "|R3A14IZL4UCGIM|          5|            0|          0|   N|\n",
      "+--------------+-----------+-------------+-----------+----+\n",
      "only showing top 20 rows\n",
      "\n"
     ]
    }
   ],
   "source": [
    "# Vine DataFrame\n",
    "vine_df = digital_video_games_df.select([\"review_id\", \"star_rating\", \"helpful_votes\", \"total_votes\", \"vine\"])\n",
    "vine_df.show()"
   ]
  },
  {
   "cell_type": "markdown",
   "metadata": {
    "id": "seNRohawt5PM"
   },
   "source": [
    "# Configuration for RDS instance"
   ]
  },
  {
   "cell_type": "code",
   "execution_count": 29,
   "metadata": {
    "id": "i-8GOZYd75Bk"
   },
   "outputs": [],
   "source": [
    "mode = \"append\"\n",
    "jdbc_url=\"jdbc:postgresql://<endpoint>:5432/digital_video_games_db\"\n",
    "config = {\"user\":\"postgres\", \"password\": \"<password>\", \"driver\":\"org.postgresql.Driver\"}"
   ]
  },
  {
   "cell_type": "markdown",
   "metadata": {
    "id": "PKYNs4Ptw6Dy"
   },
   "source": [
    "# Write DataFrames to tables to AWS RDS"
   ]
  },
  {
   "cell_type": "code",
   "execution_count": 30,
   "metadata": {
    "id": "mwornxk57myd"
   },
   "outputs": [],
   "source": [
    "# Write review_id_df to table in RDS\n",
    "review_id_df.write.jdbc(url=jdbc_url, table='review_id_table', mode=mode, properties=config)"
   ]
  },
  {
   "cell_type": "code",
   "execution_count": 31,
   "metadata": {
    "id": "Iv59E-V1JZNr"
   },
   "outputs": [],
   "source": [
    "# Write products_df to table in RDS\n",
    "products_df.write.jdbc(url=jdbc_url, table='products', mode=mode, properties=config)"
   ]
  },
  {
   "cell_type": "code",
   "execution_count": 32,
   "metadata": {
    "id": "ma05KhyRJZgm"
   },
   "outputs": [],
   "source": [
    "# Write customers_df to table in RDS\n",
    "customers_df.write.jdbc(url=jdbc_url, table='customers', mode=mode, properties=config)"
   ]
  },
  {
   "cell_type": "code",
   "execution_count": 33,
   "metadata": {
    "id": "8dJSYxu5JZtA"
   },
   "outputs": [],
   "source": [
    "# Write vine_df to table in RDS\n",
    "vine_df.write.jdbc(url=jdbc_url, table='vine_table', mode=mode, properties=config)"
   ]
  },
  {
   "cell_type": "code",
   "execution_count": null,
   "metadata": {
    "id": "Ws4ywLEp1gyL"
   },
   "outputs": [],
   "source": []
  }
 ],
 "metadata": {
  "colab": {
   "collapsed_sections": [],
   "provenance": []
  },
  "kernelspec": {
   "display_name": "Python 3",
   "language": "python",
   "name": "python3"
  },
  "language_info": {
   "codemirror_mode": {
    "name": "ipython",
    "version": 3
   },
   "file_extension": ".py",
   "mimetype": "text/x-python",
   "name": "python",
   "nbconvert_exporter": "python",
   "pygments_lexer": "ipython3",
   "version": "3.6.10"
  }
 },
 "nbformat": 4,
 "nbformat_minor": 1
}
